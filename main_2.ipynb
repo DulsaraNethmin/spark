{
 "cells": [
  {
   "cell_type": "code",
   "execution_count": 1,
   "metadata": {},
   "outputs": [],
   "source": [
    "import pyspark"
   ]
  },
  {
   "cell_type": "code",
   "execution_count": 2,
   "metadata": {},
   "outputs": [],
   "source": [
    "from pyspark.sql import SparkSession\n",
    "\n",
    "spark = SparkSession.builder.appName(\"practice2\").getOrCreate()"
   ]
  },
  {
   "cell_type": "code",
   "execution_count": 4,
   "metadata": {},
   "outputs": [],
   "source": [
    "df_pyspark = spark.read.csv(\"dataset_missing_values.csv\", header=True, inferSchema=True)"
   ]
  },
  {
   "cell_type": "code",
   "execution_count": 6,
   "metadata": {},
   "outputs": [
    {
     "name": "stdout",
     "output_type": "stream",
     "text": [
      "+---------+--------------+-----------+------+--------+\n",
      "|ProductID|   ProductName|   Category| Price|Quantity|\n",
      "+---------+--------------+-----------+------+--------+\n",
      "|        1|  Coffee Maker| Appliances| 79.99|     120|\n",
      "|        2|       Blender| Appliances|  NULL|      80|\n",
      "|        3|     Desk Lamp|  Furniture| 19.99|    NULL|\n",
      "|        4|  Dining Chair|  Furniture| 45.99|     100|\n",
      "|        5| Running Shoes|   Clothing|  NULL|     200|\n",
      "|        6|        Jacket|   Clothing|149.99|    NULL|\n",
      "|        7| Laptop Sleeve|Electronics| 29.99|      50|\n",
      "|        8|Wireless Mouse|Electronics|  NULL|    NULL|\n",
      "+---------+--------------+-----------+------+--------+\n",
      "\n"
     ]
    }
   ],
   "source": [
    "df_pyspark.show()"
   ]
  },
  {
   "cell_type": "code",
   "execution_count": 9,
   "metadata": {},
   "outputs": [
    {
     "name": "stdout",
     "output_type": "stream",
     "text": [
      "+---------+--------------+-----------+------+--------+\n",
      "|ProductID|   ProductName|   Category| Price|Quantity|\n",
      "+---------+--------------+-----------+------+--------+\n",
      "|        1|  Coffee Maker| Appliances| 79.99|     120|\n",
      "|        2|       Blender| Appliances|  NULL|      80|\n",
      "|        3|     Desk Lamp|  Furniture| 19.99|    NULL|\n",
      "|        4|  Dining Chair|  Furniture| 45.99|     100|\n",
      "|        5| Running Shoes|   Clothing|  NULL|     200|\n",
      "|        6|        Jacket|   Clothing|149.99|    NULL|\n",
      "|        7| Laptop Sleeve|Electronics| 29.99|      50|\n",
      "|        8|Wireless Mouse|Electronics|  NULL|    NULL|\n",
      "+---------+--------------+-----------+------+--------+\n",
      "\n"
     ]
    }
   ],
   "source": [
    "df_pyspark.na.drop(how='all').show()"
   ]
  },
  {
   "cell_type": "code",
   "execution_count": 12,
   "metadata": {},
   "outputs": [
    {
     "name": "stdout",
     "output_type": "stream",
     "text": [
      "+---------+-------------+-----------+------+--------+\n",
      "|ProductID|  ProductName|   Category| Price|Quantity|\n",
      "+---------+-------------+-----------+------+--------+\n",
      "|        1| Coffee Maker| Appliances| 79.99|     120|\n",
      "|        2|      Blender| Appliances|  NULL|      80|\n",
      "|        3|    Desk Lamp|  Furniture| 19.99|    NULL|\n",
      "|        4| Dining Chair|  Furniture| 45.99|     100|\n",
      "|        5|Running Shoes|   Clothing|  NULL|     200|\n",
      "|        6|       Jacket|   Clothing|149.99|    NULL|\n",
      "|        7|Laptop Sleeve|Electronics| 29.99|      50|\n",
      "+---------+-------------+-----------+------+--------+\n",
      "\n"
     ]
    }
   ],
   "source": [
    "df_pyspark.na.drop(thresh=4).show()"
   ]
  },
  {
   "cell_type": "code",
   "execution_count": 14,
   "metadata": {},
   "outputs": [
    {
     "name": "stdout",
     "output_type": "stream",
     "text": [
      "+---------+--------------+-----------+------+--------+\n",
      "|ProductID|   ProductName|   Category| Price|Quantity|\n",
      "+---------+--------------+-----------+------+--------+\n",
      "|        1|  Coffee Maker| Appliances| 79.99|     120|\n",
      "|        2|       Blender| Appliances|   0.0|      80|\n",
      "|        3|     Desk Lamp|  Furniture| 19.99|       0|\n",
      "|        4|  Dining Chair|  Furniture| 45.99|     100|\n",
      "|        5| Running Shoes|   Clothing|   0.0|     200|\n",
      "|        6|        Jacket|   Clothing|149.99|       0|\n",
      "|        7| Laptop Sleeve|Electronics| 29.99|      50|\n",
      "|        8|Wireless Mouse|Electronics|   0.0|       0|\n",
      "+---------+--------------+-----------+------+--------+\n",
      "\n"
     ]
    }
   ],
   "source": [
    "df_pyspark.na.fill(0).show()"
   ]
  },
  {
   "cell_type": "markdown",
   "metadata": {},
   "source": []
  },
  {
   "cell_type": "code",
   "execution_count": null,
   "metadata": {},
   "outputs": [],
   "source": []
  },
  {
   "cell_type": "code",
   "execution_count": null,
   "metadata": {},
   "outputs": [],
   "source": []
  },
  {
   "cell_type": "code",
   "execution_count": null,
   "metadata": {},
   "outputs": [],
   "source": []
  }
 ],
 "metadata": {
  "kernelspec": {
   "display_name": "spark",
   "language": "python",
   "name": "python3"
  },
  "language_info": {
   "codemirror_mode": {
    "name": "ipython",
    "version": 3
   },
   "file_extension": ".py",
   "mimetype": "text/x-python",
   "name": "python",
   "nbconvert_exporter": "python",
   "pygments_lexer": "ipython3",
   "version": "3.11.9"
  }
 },
 "nbformat": 4,
 "nbformat_minor": 2
}
