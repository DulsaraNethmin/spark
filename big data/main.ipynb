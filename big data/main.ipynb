{
 "cells": [
  {
   "cell_type": "code",
   "execution_count": 1,
   "metadata": {},
   "outputs": [],
   "source": [
    "from pyspark.sql import SparkSession\n",
    "\n",
    "spark = SparkSession.builder.appName(\"big data\").getOrCreate()"
   ]
  },
  {
   "cell_type": "code",
   "execution_count": 2,
   "metadata": {},
   "outputs": [],
   "source": [
    "df_bank = spark.read.csv(\"bank_transactions.csv\", header=True, inferSchema=True)"
   ]
  },
  {
   "cell_type": "code",
   "execution_count": 10,
   "metadata": {},
   "outputs": [
    {
     "data": {
      "text/html": [
       "\n",
       "            <div>\n",
       "                <p><b>SparkSession - in-memory</b></p>\n",
       "                \n",
       "        <div>\n",
       "            <p><b>SparkContext</b></p>\n",
       "\n",
       "            <p><a href=\"http://10.10.59.189:4044\">Spark UI</a></p>\n",
       "\n",
       "            <dl>\n",
       "              <dt>Version</dt>\n",
       "                <dd><code>v3.5.1</code></dd>\n",
       "              <dt>Master</dt>\n",
       "                <dd><code>local[*]</code></dd>\n",
       "              <dt>AppName</dt>\n",
       "                <dd><code>big data</code></dd>\n",
       "            </dl>\n",
       "        </div>\n",
       "        \n",
       "            </div>\n",
       "        "
      ],
      "text/plain": [
       "<pyspark.sql.session.SparkSession at 0x1a614b59a90>"
      ]
     },
     "execution_count": 10,
     "metadata": {},
     "output_type": "execute_result"
    }
   ],
   "source": [
    "spark"
   ]
  },
  {
   "cell_type": "code",
   "execution_count": 3,
   "metadata": {},
   "outputs": [
    {
     "name": "stdout",
     "output_type": "stream",
     "text": [
      "root\n",
      " |-- TransactionID: string (nullable = true)\n",
      " |-- CustomerID: string (nullable = true)\n",
      " |-- CustomerDOB: string (nullable = true)\n",
      " |-- CustGender: string (nullable = true)\n",
      " |-- CustLocation: string (nullable = true)\n",
      " |-- CustAccountBalance: double (nullable = true)\n",
      " |-- TransactionDate: string (nullable = true)\n",
      " |-- TransactionTime: integer (nullable = true)\n",
      " |-- TransactionAmount (INR): double (nullable = true)\n",
      "\n"
     ]
    }
   ],
   "source": [
    "df_bank.printSchema()"
   ]
  },
  {
   "cell_type": "code",
   "execution_count": 5,
   "metadata": {},
   "outputs": [
    {
     "name": "stdout",
     "output_type": "stream",
     "text": [
      "+-------------+----------+-----------+----------+------------+------------------+---------------+---------------+-----------------------+\n",
      "|TransactionID|CustomerID|CustomerDOB|CustGender|CustLocation|CustAccountBalance|TransactionDate|TransactionTime|TransactionAmount (INR)|\n",
      "+-------------+----------+-----------+----------+------------+------------------+---------------+---------------+-----------------------+\n",
      "|           T1|  C5841053|    10/1/94|         F|  JAMSHEDPUR|          17819.05|         2/8/16|         143207|                   25.0|\n",
      "|           T2|  C2142763|     4/4/57|         M|     JHAJJAR|           2270.69|         2/8/16|         141858|                27999.0|\n",
      "|           T3|  C4417068|   26/11/96|         F|      MUMBAI|          17874.44|         2/8/16|         142712|                  459.0|\n",
      "|           T4|  C5342380|    14/9/73|         F|      MUMBAI|         866503.21|         2/8/16|         142714|                 2060.0|\n",
      "|           T5|  C9031234|    24/3/88|         F| NAVI MUMBAI|           6714.43|         2/8/16|         181156|                 1762.5|\n",
      "|           T6|  C1536588|    8/10/72|         F|    ITANAGAR|           53609.2|         2/8/16|         173940|                  676.0|\n",
      "|           T7|  C7126560|    26/1/92|         F|      MUMBAI|            973.46|         2/8/16|         173806|                  566.0|\n",
      "|           T8|  C1220223|    27/1/82|         M|      MUMBAI|          95075.54|         2/8/16|         170537|                  148.0|\n",
      "|           T9|  C8536061|    19/4/88|         F|     GURGAON|          14906.96|         2/8/16|         192825|                  833.0|\n",
      "|          T10|  C6638934|    22/6/84|         M|      MUMBAI|           4279.22|         2/8/16|         192446|                 289.11|\n",
      "|          T11|  C5430833|    22/7/82|         M|      MOHALI|          48429.49|         2/8/16|         204133|                  259.0|\n",
      "|          T12|  C6939838|     7/7/88|         M|      GUNTUR|          14613.46|         2/8/16|         205108|                  202.0|\n",
      "|          T13|  C6339347|    13/6/78|         M|   AHMEDABAD|          32274.78|         2/8/16|         203834|                12300.0|\n",
      "|          T14|  C8327851|     5/1/92|         F|       THANE|          59950.44|         1/8/16|          84706|                   50.0|\n",
      "|          T15|  C7917151|    24/3/78|         M|        PUNE|          10100.84|         1/8/16|          82253|                  338.0|\n",
      "|          T16|  C8334633|    10/7/68|         F|   NEW DELHI|           1283.12|         1/8/16|         125725|                  250.0|\n",
      "|          T17|  C1376215|   1/1/1800|         M|      MUMBAI|          77495.15|         1/8/16|         124727|                1423.11|\n",
      "|          T18|  C8967349|    16/7/89|         M|      MUMBAI|           2177.85|         1/8/16|         124734|                   54.0|\n",
      "|          T19|  C3732016|    11/1/91|         M|      MUMBAI|          32816.17|         1/8/16|         122135|                  315.0|\n",
      "|          T20|  C8999019|    24/6/85|         M|        PUNE|           10643.5|         1/8/16|         152821|                  945.0|\n",
      "+-------------+----------+-----------+----------+------------+------------------+---------------+---------------+-----------------------+\n",
      "only showing top 20 rows\n",
      "\n"
     ]
    }
   ],
   "source": [
    "df_bank.show()"
   ]
  },
  {
   "cell_type": "code",
   "execution_count": 7,
   "metadata": {},
   "outputs": [
    {
     "name": "stdout",
     "output_type": "stream",
     "text": [
      "+----------+------+\n",
      "|CustGender| count|\n",
      "+----------+------+\n",
      "|         F|281936|\n",
      "|      NULL|  1100|\n",
      "|         M|765530|\n",
      "|         T|     1|\n",
      "+----------+------+\n",
      "\n"
     ]
    }
   ],
   "source": [
    "df_bank.groupBy(\"CustGender\").count().show()"
   ]
  },
  {
   "cell_type": "code",
   "execution_count": 8,
   "metadata": {},
   "outputs": [
    {
     "name": "stdout",
     "output_type": "stream",
     "text": [
      "+--------------------+-----+\n",
      "|        CustLocation|count|\n",
      "+--------------------+-----+\n",
      "|             GWALIOR|  948|\n",
      "|      UTTAR DINAJPUR|   62|\n",
      "|             SANGRUR|  353|\n",
      "|  ACADEMY SAMASTIPUR|    5|\n",
      "|NO 3 NR LALLAN HO...|   57|\n",
      "|GATE DARIYAPUR AH...|    7|\n",
      "|ELPHINSTONE W MUMBAI|   12|\n",
      "|             SHIMOGA|  114|\n",
      "|          FLOOR PUNE|    2|\n",
      "|           TIRUVALLA|    8|\n",
      "|              BOKARO|  549|\n",
      "|            KALYAN W|   61|\n",
      "|       RAMABAI NAGAR|   23|\n",
      "| DOMBIVLI EAST THANE|   27|\n",
      "|NASHIK NASHIK NAS...|    8|\n",
      "|  HOSPITAL NEW DELHI|   29|\n",
      "| HAJARIBAG HAJARIBAG|    4|\n",
      "|OFF HAL AIRPORT B...|    2|\n",
      "|    EXCHANGE KOLKATA|    4|\n",
      "|  SHIVAJI NAGAR PUNE|   19|\n",
      "+--------------------+-----+\n",
      "only showing top 20 rows\n",
      "\n"
     ]
    }
   ],
   "source": [
    "df_bank.groupBy(\"CustLocation\").count().show()"
   ]
  },
  {
   "cell_type": "code",
   "execution_count": 9,
   "metadata": {},
   "outputs": [
    {
     "ename": "NameError",
     "evalue": "name 'null' is not defined",
     "output_type": "error",
     "traceback": [
      "\u001b[1;31m---------------------------------------------------------------------------\u001b[0m",
      "\u001b[1;31mNameError\u001b[0m                                 Traceback (most recent call last)",
      "Cell \u001b[1;32mIn[9], line 1\u001b[0m\n\u001b[1;32m----> 1\u001b[0m df_bank\u001b[38;5;241m.\u001b[39mfilter(df_bank[\u001b[38;5;124m\"\u001b[39m\u001b[38;5;124mCustLocation\u001b[39m\u001b[38;5;124m\"\u001b[39m] \u001b[38;5;241m==\u001b[39m \u001b[43mnull\u001b[49m)\u001b[38;5;241m.\u001b[39mshow()\n",
      "\u001b[1;31mNameError\u001b[0m: name 'null' is not defined"
     ]
    }
   ],
   "source": []
  },
  {
   "cell_type": "code",
   "execution_count": null,
   "metadata": {},
   "outputs": [],
   "source": []
  },
  {
   "cell_type": "code",
   "execution_count": null,
   "metadata": {},
   "outputs": [],
   "source": []
  },
  {
   "cell_type": "code",
   "execution_count": null,
   "metadata": {},
   "outputs": [],
   "source": []
  },
  {
   "cell_type": "code",
   "execution_count": null,
   "metadata": {},
   "outputs": [],
   "source": []
  }
 ],
 "metadata": {
  "kernelspec": {
   "display_name": "spark",
   "language": "python",
   "name": "python3"
  },
  "language_info": {
   "codemirror_mode": {
    "name": "ipython",
    "version": 3
   },
   "file_extension": ".py",
   "mimetype": "text/x-python",
   "name": "python",
   "nbconvert_exporter": "python",
   "pygments_lexer": "ipython3",
   "version": "3.11.9"
  }
 },
 "nbformat": 4,
 "nbformat_minor": 2
}
