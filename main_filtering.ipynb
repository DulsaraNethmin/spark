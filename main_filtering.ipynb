{
 "cells": [
  {
   "cell_type": "code",
   "execution_count": 1,
   "metadata": {},
   "outputs": [],
   "source": [
    "import pyspark\n",
    "from pyspark.sql import SparkSession\n",
    "\n",
    "spark = SparkSession.builder.appName(\"SparkSQL\").getOrCreate()"
   ]
  },
  {
   "cell_type": "code",
   "execution_count": 2,
   "metadata": {},
   "outputs": [],
   "source": [
    "df_spark = spark.read.csv('Sample_Products_Dataset_For_Filtering.csv', inferSchema=True, header=True)"
   ]
  },
  {
   "cell_type": "code",
   "execution_count": 3,
   "metadata": {},
   "outputs": [
    {
     "name": "stdout",
     "output_type": "stream",
     "text": [
      "+---------+--------------+-----------+------+--------+---------+\n",
      "|ProductID|   ProductName|   Category| Price|Quantity|Available|\n",
      "+---------+--------------+-----------+------+--------+---------+\n",
      "|        1|  Coffee Maker| Appliances| 79.99|     120|      Yes|\n",
      "|        2|       Blender| Appliances| 39.99|       0|       No|\n",
      "|        3|     Desk Lamp|  Furniture| 19.99|     150|      Yes|\n",
      "|        4|  Dining Chair|  Furniture| 45.99|       0|       No|\n",
      "|        5| Running Shoes|   Clothing| 89.99|     200|      Yes|\n",
      "|        6|        Jacket|   Clothing|149.99|      90|      Yes|\n",
      "|        7| Laptop Sleeve|Electronics| 29.99|      50|      Yes|\n",
      "|        8|Wireless Mouse|Electronics| 19.99|       0|       No|\n",
      "|        9|    Smartphone|Electronics|699.99|      30|      Yes|\n",
      "|       10|       Sweater|   Clothing| 49.99|      60|       No|\n",
      "+---------+--------------+-----------+------+--------+---------+\n",
      "\n"
     ]
    }
   ],
   "source": [
    "df_spark.show()"
   ]
  },
  {
   "cell_type": "code",
   "execution_count": 4,
   "metadata": {},
   "outputs": [
    {
     "name": "stdout",
     "output_type": "stream",
     "text": [
      "root\n",
      " |-- ProductID: integer (nullable = true)\n",
      " |-- ProductName: string (nullable = true)\n",
      " |-- Category: string (nullable = true)\n",
      " |-- Price: double (nullable = true)\n",
      " |-- Quantity: integer (nullable = true)\n",
      " |-- Available: string (nullable = true)\n",
      "\n"
     ]
    }
   ],
   "source": [
    "df_spark.printSchema()"
   ]
  },
  {
   "cell_type": "code",
   "execution_count": 5,
   "metadata": {},
   "outputs": [
    {
     "name": "stdout",
     "output_type": "stream",
     "text": [
      "+---------+-------------+-----------+------+--------+---------+\n",
      "|ProductID|  ProductName|   Category| Price|Quantity|Available|\n",
      "+---------+-------------+-----------+------+--------+---------+\n",
      "|        1| Coffee Maker| Appliances| 79.99|     120|      Yes|\n",
      "|        3|    Desk Lamp|  Furniture| 19.99|     150|      Yes|\n",
      "|        5|Running Shoes|   Clothing| 89.99|     200|      Yes|\n",
      "|        6|       Jacket|   Clothing|149.99|      90|      Yes|\n",
      "|        7|Laptop Sleeve|Electronics| 29.99|      50|      Yes|\n",
      "|        9|   Smartphone|Electronics|699.99|      30|      Yes|\n",
      "|       10|      Sweater|   Clothing| 49.99|      60|       No|\n",
      "+---------+-------------+-----------+------+--------+---------+\n",
      "\n"
     ]
    }
   ],
   "source": [
    "df_spark.filter(df_spark['Quantity']>10).show()"
   ]
  },
  {
   "cell_type": "code",
   "execution_count": 8,
   "metadata": {},
   "outputs": [
    {
     "name": "stdout",
     "output_type": "stream",
     "text": [
      "+---------+--------------+\n",
      "|productid|   productName|\n",
      "+---------+--------------+\n",
      "|        2|       Blender|\n",
      "|        4|  Dining Chair|\n",
      "|        8|Wireless Mouse|\n",
      "+---------+--------------+\n",
      "\n"
     ]
    }
   ],
   "source": [
    "df_spark.filter(df_spark['Quantity']==0).select(['productid', 'productName']).show()"
   ]
  },
  {
   "cell_type": "code",
   "execution_count": 10,
   "metadata": {},
   "outputs": [
    {
     "name": "stdout",
     "output_type": "stream",
     "text": [
      "+---------+-------------+-----------+-----+--------+---------+\n",
      "|ProductID|  ProductName|   Category|Price|Quantity|Available|\n",
      "+---------+-------------+-----------+-----+--------+---------+\n",
      "|        1| Coffee Maker| Appliances|79.99|     120|      Yes|\n",
      "|        3|    Desk Lamp|  Furniture|19.99|     150|      Yes|\n",
      "|        5|Running Shoes|   Clothing|89.99|     200|      Yes|\n",
      "|        7|Laptop Sleeve|Electronics|29.99|      50|      Yes|\n",
      "|       10|      Sweater|   Clothing|49.99|      60|       No|\n",
      "+---------+-------------+-----------+-----+--------+---------+\n",
      "\n"
     ]
    }
   ],
   "source": [
    "df_spark.filter((df_spark['Price']<=100) & (df_spark['Quantity']>10)).show()"
   ]
  },
  {
   "cell_type": "code",
   "execution_count": null,
   "metadata": {},
   "outputs": [],
   "source": []
  },
  {
   "cell_type": "code",
   "execution_count": null,
   "metadata": {},
   "outputs": [],
   "source": []
  },
  {
   "cell_type": "code",
   "execution_count": null,
   "metadata": {},
   "outputs": [],
   "source": []
  },
  {
   "cell_type": "code",
   "execution_count": null,
   "metadata": {},
   "outputs": [],
   "source": []
  },
  {
   "cell_type": "code",
   "execution_count": null,
   "metadata": {},
   "outputs": [],
   "source": []
  }
 ],
 "metadata": {
  "kernelspec": {
   "display_name": "spark",
   "language": "python",
   "name": "python3"
  },
  "language_info": {
   "codemirror_mode": {
    "name": "ipython",
    "version": 3
   },
   "file_extension": ".py",
   "mimetype": "text/x-python",
   "name": "python",
   "nbconvert_exporter": "python",
   "pygments_lexer": "ipython3",
   "version": "3.11.9"
  }
 },
 "nbformat": 4,
 "nbformat_minor": 2
}
